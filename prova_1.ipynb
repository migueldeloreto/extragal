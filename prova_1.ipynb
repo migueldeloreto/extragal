{
 "cells": [
  {
   "cell_type": "markdown",
   "id": "63932fbb",
   "metadata": {},
   "source": [
    "# Questão 1"
   ]
  },
  {
   "cell_type": "code",
   "execution_count": 37,
   "id": "01c7f5b5",
   "metadata": {},
   "outputs": [
    {
     "name": "stdout",
     "output_type": "stream",
     "text": [
      "6.865771047627315e-05\n",
      "Letra (B): Este universo tem 15.73 Ganos em z=0\n",
      "Letra (C): O tamanho físico que podemos resolver com este telescópio é 0.01622 kpc em z=16\n",
      "Letra (D): Este universo tem 0.28 Ganos em z=16\n",
      "Letra (E): A distância horizonte é 1.53 Gpc\n"
     ]
    }
   ],
   "source": [
    "from scipy.integrate import quad\n",
    "import scipy.constants as sc\n",
    "import numpy as np\n",
    "\n",
    "T=2.725\n",
    "H_0=60/3.086e19 #em segundos\n",
    "omega_rad=(32*sc.pi*sc.G*sc.sigma*(T**4))/(3*((H_0)**2)*(sc.c**3))\n",
    "print(omega_rad)\n",
    "omega_m=0.3\n",
    "omega_l=0.6\n",
    "omega_k=1-omega_rad-omega_l-omega_m\n",
    "\n",
    "# Letra b:\n",
    "def idade_universo_int(z):\n",
    "    materia=omega_m*((1+z)**3)\n",
    "    radiacao=omega_rad*((1+z)**4)\n",
    "    energia_escura=(omega_l/512)*(((2+z)**9)/((1+z)**6))\n",
    "    curvatura=omega_k*((1+z)**2)\n",
    "    Ez=np.sqrt(materia+radiacao+energia_escura+curvatura)\n",
    "    return 1/((1+z)*Ez)\n",
    "\n",
    "idade=(1/H_0)*(quad(idade_universo_int, 0, np.inf))[0] #em segundos\n",
    "idade_ganos=idade/(3600*24*365*1e9) # em giganos\n",
    "print(f\"Letra (B): Este universo tem {idade_ganos:.2f} Ganos em z=0\")\n",
    "\n",
    "# Letra c:\n",
    "\n",
    "def distancia_comovel_int(z):\n",
    "    materia=omega_m*((1+z)**3)\n",
    "    radiacao=omega_rad*((1+z)**4)\n",
    "    energia_escura=(omega_l/512)*(((2+z)**9)/((1+z)**6))\n",
    "    curvatura=omega_k*((1+z)**2)\n",
    "    Ez=np.sqrt(materia+radiacao+energia_escura+curvatura)\n",
    "    return 1/Ez\n",
    "\n",
    "distancia_comovel=(sc.c/H_0)*quad(distancia_comovel_int, 0, 16)[0] #em metros\n",
    "diametro_angular=distancia_comovel/(1+16) #em metros, onde z=16\n",
    "resol_telesco=0.05*(sc.pi/(180*3600)) #em radianos\n",
    "# Como resol_telesco << 1 radiano, podemos usar R=alpha*d_A, logo:\n",
    "tam_fisico=resol_telesco*diametro_angular/3.24e20 #em kiloparsec\n",
    "print(f\"Letra (C): O tamanho físico que podemos resolver com este telescópio é {tam_fisico:.5f} kpc em z=16\")\n",
    "\n",
    "# Letra d:\n",
    "\n",
    "idade=(1/H_0)*(quad(idade_universo_int, 16, np.inf))[0] #em segundos\n",
    "idade_ganos=idade/(3600*24*365*1e9) # em giganos\n",
    "print(f\"Letra (D): Este universo tem {idade_ganos:.2f} Ganos em z=16\")\n",
    "\n",
    "# Letra e:\n",
    "\n",
    "distancia_comovel=(sc.c/H_0)*quad(distancia_comovel_int, 0, np.inf)[0] #em metros\n",
    "distancia_horizonte=distancia_comovel/3.24e26\n",
    "print(f\"Letra (E): A distância horizonte é {distancia_horizonte:.2f} Gpc\")\n",
    "\n"
   ]
  },
  {
   "cell_type": "code",
   "execution_count": null,
   "id": "d6819d81",
   "metadata": {},
   "outputs": [],
   "source": []
  }
 ],
 "metadata": {
  "kernelspec": {
   "display_name": "Python 3",
   "language": "python",
   "name": "python3"
  },
  "language_info": {
   "codemirror_mode": {
    "name": "ipython",
    "version": 3
   },
   "file_extension": ".py",
   "mimetype": "text/x-python",
   "name": "python",
   "nbconvert_exporter": "python",
   "pygments_lexer": "ipython3",
   "version": "3.10.12"
  }
 },
 "nbformat": 4,
 "nbformat_minor": 5
}
